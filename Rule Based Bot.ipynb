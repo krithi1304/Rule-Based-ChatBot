{
 "cells": [
  {
   "cell_type": "code",
   "execution_count": 1,
   "metadata": {},
   "outputs": [
    {
     "name": "stdout",
     "output_type": "stream",
     "text": [
      "Requirement already satisfied: nltk in e:\\anaconda3\\lib\\site-packages (3.5)\n",
      "Requirement already satisfied: click in e:\\anaconda3\\lib\\site-packages (from nltk) (7.1.2)\n",
      "Requirement already satisfied: regex in e:\\anaconda3\\lib\\site-packages (from nltk) (2020.10.15)\n",
      "Requirement already satisfied: tqdm in e:\\anaconda3\\lib\\site-packages (from nltk) (4.50.2)\n",
      "Requirement already satisfied: joblib in e:\\anaconda3\\lib\\site-packages (from nltk) (0.17.0)\n",
      "Note: you may need to restart the kernel to use updated packages.\n"
     ]
    }
   ],
   "source": [
    "pip install nltk"
   ]
  },
  {
   "cell_type": "markdown",
   "metadata": {},
   "source": [
    "The Natural Language Toolkit(NLTK), is a collection of libraries and programs for symbolic and statistical natural language processing"
   ]
  },
  {
   "cell_type": "code",
   "execution_count": 2,
   "metadata": {},
   "outputs": [],
   "source": [
    "from nltk.chat.util import Chat, reflections\n"
   ]
  },
  {
   "cell_type": "code",
   "execution_count": 3,
   "metadata": {},
   "outputs": [
    {
     "data": {
      "text/plain": [
       "{'i am': 'you are',\n",
       " 'i was': 'you were',\n",
       " 'i': 'you',\n",
       " \"i'm\": 'you are',\n",
       " \"i'd\": 'you would',\n",
       " \"i've\": 'you have',\n",
       " \"i'll\": 'you will',\n",
       " 'my': 'your',\n",
       " 'you are': 'I am',\n",
       " 'you were': 'I was',\n",
       " \"you've\": 'I have',\n",
       " \"you'll\": 'I will',\n",
       " 'your': 'my',\n",
       " 'yours': 'mine',\n",
       " 'you': 'me',\n",
       " 'me': 'you'}"
      ]
     },
     "execution_count": 3,
     "metadata": {},
     "output_type": "execute_result"
    }
   ],
   "source": [
    "reflections"
   ]
  },
  {
   "cell_type": "code",
   "execution_count": 4,
   "metadata": {},
   "outputs": [],
   "source": [
    "pairs = [\n",
    "    ['Hi',['Hey, hello bro!']],\n",
    "    ['ok',['looking sad...wat happened?']],\n",
    "    ['ntg',['okay...let us play a game...say me a word,I will name a thing which i remember hearing to that word!']],\n",
    "    ['i love dairy milk',['awe, yes even my fav choco is dairy milk']],\n",
    "    ['you are sweet!',['not more than u dear']],\n",
    "    ['haha',['haha...xd']],\n",
    "    ['love',['hate']],\n",
    "    ['fun',['boring']],\n",
    "    ['smile',['reveres U face...xd']],\n",
    "    ['lol',['lots of loads...xd']],\n",
    "    ['name',['fame']],\n",
    "    ['flower',['lover']],\n",
    "    ['human',['animal']],\n",
    "    ['sky',['land']],\n",
    "    ['doremon',['nobita']],\n",
    "    ['dairy',['dairymilk']],\n",
    "    ['sweet',['weight']],\n",
    "    ['height',['short']],\n",
    "    ['Bye',['Good bye mate!']]\n",
    "  \n",
    "]"
   ]
  },
  {
   "cell_type": "code",
   "execution_count": 5,
   "metadata": {},
   "outputs": [],
   "source": [
    "chat = Chat(pairs,reflections) #capital C\n"
   ]
  },
  {
   "cell_type": "code",
   "execution_count": 6,
   "metadata": {},
   "outputs": [],
   "source": [
    "def endChat():\n",
    "    print('hey am BotPal' , 'use quit to end chats')"
   ]
  },
  {
   "cell_type": "code",
   "execution_count": 7,
   "metadata": {},
   "outputs": [],
   "source": [
    "if __name__ == '_endChat_':\n",
    "    endChat()"
   ]
  },
  {
   "cell_type": "code",
   "execution_count": 9,
   "metadata": {},
   "outputs": [
    {
     "name": "stdout",
     "output_type": "stream",
     "text": [
      ">hi\n",
      "Hey, hello bro!\n",
      ">ok\n",
      "looking sad...wat happened?\n",
      ">ntg\n",
      "okay...let us play a game...say me a word,I will name a thing which i remember hearing to that word!\n",
      ">flower\n",
      "lover\n",
      ">name\n",
      "fame\n",
      ">sweet\n",
      "weight\n",
      ">dairy\n",
      "dairymilk\n",
      ">i love dairy milk\n",
      "awe, yes even my fav choco is dairy milk\n",
      ">you are sweet!\n",
      "None\n",
      ">haha\n",
      "haha...xd\n",
      ">you are sweet!\n",
      "None\n",
      ">bye\n",
      "Good bye mate!\n",
      ">quit\n",
      "None\n"
     ]
    }
   ],
   "source": [
    "chat.converse() #start the bot"
   ]
  },
  {
   "cell_type": "code",
   "execution_count": null,
   "metadata": {},
   "outputs": [],
   "source": []
  }
 ],
 "metadata": {
  "kernelspec": {
   "display_name": "Python 3",
   "language": "python",
   "name": "python3"
  },
  "language_info": {
   "codemirror_mode": {
    "name": "ipython",
    "version": 3
   },
   "file_extension": ".py",
   "mimetype": "text/x-python",
   "name": "python",
   "nbconvert_exporter": "python",
   "pygments_lexer": "ipython3",
   "version": "3.8.5"
  }
 },
 "nbformat": 4,
 "nbformat_minor": 4
}
